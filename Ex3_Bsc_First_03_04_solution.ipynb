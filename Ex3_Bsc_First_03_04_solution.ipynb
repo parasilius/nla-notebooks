{
 "cells": [
  {
   "cell_type": "markdown",
   "metadata": {
    "id": "bhREEhORnaKB"
   },
   "source": [
    "<p></p>\n",
    "<div style=\"direction:rtl;line-height:300%;\">\n",
    "\t<font face=\"XB Zar\" size=5>\n",
    "\t\t<font color=#f87d5b size=10>\n",
    "حل تمارین عملی سری سوم\n",
    "        </font>\n",
    "\t\t<hr>\n",
    "        <b>متن گزارش در محیط ژوپیتر محلی (local) به درستی نمایش داده می‌شود، ولی ممکن است روی گوگل کولب مشکل داشته باشد.</b>\n",
    "        <br>\n",
    "        پیش از هر چیز کتابخانه‌های مورد نیاز را ایمپورت می‌کنیم:"
   ]
  },
  {
   "cell_type": "code",
   "execution_count": 43,
   "metadata": {
    "id": "JsLqyqehb6bM"
   },
   "outputs": [],
   "source": [
    "import numpy as np\n",
    "import matplotlib.pyplot as plt"
   ]
  },
  {
   "cell_type": "markdown",
   "metadata": {
    "id": "x51eRycRm-p6"
   },
   "source": [
    "<p></p>\n",
    "<div style=\"direction:rtl;line-height:300%;\">\n",
    "\t<font face=\"XB Zar\" size=5>\n",
    "\t\t<font color=#f87d5b size=6>\n",
    "حل تمرین ۳\n",
    "        </font>\n",
    "\t\t<hr>\n",
    "\t\t<b>قسمت الف)</b> ابتدا پارامتر <code>r</code>، تلورانس خطا و تعداد مجهول‌های دستگاه را به ترتیب تعریف می‌کنیم:\n",
    "\t</font>\n",
    "</div>"
   ]
  },
  {
   "cell_type": "code",
   "execution_count": 2,
   "metadata": {},
   "outputs": [],
   "source": [
    "r = 0.25\n",
    "epsilon = 0.5e-12\n",
    "n = 100"
   ]
  },
  {
   "cell_type": "markdown",
   "metadata": {},
   "source": [
    "<p></p>\n",
    "<div style=\"direction:rtl;line-height:300%;\">\n",
    "\t<font face=\"XB Zar\" size=5>\n",
    "\t\t<p></p>\n",
    "\t\tحال ماتریس \\( A \\) را همان طور که در صورت سوال به ما داده شده با پارامتر <code>r</code> ایجاد می‌کنیم:\n",
    "\t</font>\n",
    "</div>"
   ]
  },
  {
   "cell_type": "code",
   "execution_count": 3,
   "metadata": {},
   "outputs": [],
   "source": [
    "A = (1 + 2 * r) * np.eye(100) + (-r) * np.eye(n, k=1) + (-r) * np.eye(n, k=-1)"
   ]
  },
  {
   "cell_type": "markdown",
   "metadata": {},
   "source": [
    "<p></p>\n",
    "<div style=\"direction:rtl;line-height:300%;\">\n",
    "\t<font face=\"XB Zar\" size=5>\n",
    "\t\t<p></p>\n",
    "        در گام بعدی بردار $b$ و بردار اولیه‌ی $X_0$ را مطابق صورت سوال تعریف می‌کنیم:\n",
    "\t</font>\n",
    "</div>"
   ]
  },
  {
   "cell_type": "code",
   "execution_count": 4,
   "metadata": {},
   "outputs": [],
   "source": [
    "b = np.ones(n)\n",
    "X_0 = np.zeros(n)"
   ]
  },
  {
   "cell_type": "markdown",
   "metadata": {},
   "source": [
    "<p></p>\n",
    "<div style=\"direction:rtl;line-height:300%;\">\n",
    "\t<font face=\"XB Zar\" size=5>\n",
    "\t\t<p></p>\n",
    "        الگوریتم ژاکوبی با فرم ماتریسی و محک توقف \\( \\max_i \\| x_i^{(k)} - x_i^{(k - 1)} \\| \\leq \\epsilon \\) پیاده‌سازی شده است که \\( \\epsilon \\) همان تلورانس خطاست.\n",
    "\t</font>\n",
    "</div>"
   ]
  },
  {
   "cell_type": "code",
   "execution_count": 5,
   "metadata": {},
   "outputs": [],
   "source": [
    "def jacobi(A, b, X_0, epsilon):\n",
    "    U = np.triu(A, k=1)\n",
    "    L = np.tril(A, k=-1)\n",
    "    D = np.diag(np.diag(A))\n",
    "\n",
    "    X = X_0\n",
    "    num_iterations = 0\n",
    "    while True:\n",
    "        X_prev = X\n",
    "        X = -np.linalg.inv(D) @ (L + U) @ X + np.linalg.inv(D) @ b\n",
    "        num_iterations += 1\n",
    "        if np.linalg.norm(X - X_prev, np.inf) <= epsilon:\n",
    "            break\n",
    "\n",
    "    return X, num_iterations"
   ]
  },
  {
   "cell_type": "markdown",
   "metadata": {},
   "source": [
    "<p></p>\n",
    "<div style=\"direction:rtl;line-height:300%;\">\n",
    "\t<font face=\"XB Zar\" size=5>\n",
    "\t\t<p></p>\n",
    "        حال این الگوریتم را با پارامترهای مشخص شده روی دستگاه مورد نظر اجرا کرده و از نتایج خروجی می‌گیریم:\n",
    "\t</font>\n",
    "</div>"
   ]
  },
  {
   "cell_type": "code",
   "execution_count": 22,
   "metadata": {},
   "outputs": [
    {
     "name": "stdout",
     "output_type": "stream",
     "text": [
      "AX = b solved using Jacobi method with 27 iterations:\n"
     ]
    },
    {
     "data": {
      "text/plain": [
       "array([0.82842712, 0.97056275, 0.99494937, 0.99913345, 0.99985132,\n",
       "       0.99997449, 0.99999562, 0.99999925, 0.99999987, 0.99999998,\n",
       "       1.        , 1.        , 1.        , 1.        , 1.        ,\n",
       "       1.        , 1.        , 1.        , 1.        , 1.        ,\n",
       "       1.        , 1.        , 1.        , 1.        , 1.        ,\n",
       "       1.        , 1.        , 1.        , 1.        , 1.        ,\n",
       "       1.        , 1.        , 1.        , 1.        , 1.        ,\n",
       "       1.        , 1.        , 1.        , 1.        , 1.        ,\n",
       "       1.        , 1.        , 1.        , 1.        , 1.        ,\n",
       "       1.        , 1.        , 1.        , 1.        , 1.        ,\n",
       "       1.        , 1.        , 1.        , 1.        , 1.        ,\n",
       "       1.        , 1.        , 1.        , 1.        , 1.        ,\n",
       "       1.        , 1.        , 1.        , 1.        , 1.        ,\n",
       "       1.        , 1.        , 1.        , 1.        , 1.        ,\n",
       "       1.        , 1.        , 1.        , 1.        , 1.        ,\n",
       "       1.        , 1.        , 1.        , 1.        , 1.        ,\n",
       "       1.        , 1.        , 1.        , 1.        , 1.        ,\n",
       "       1.        , 1.        , 1.        , 1.        , 1.        ,\n",
       "       0.99999998, 0.99999987, 0.99999925, 0.99999562, 0.99997449,\n",
       "       0.99985132, 0.99913345, 0.99494937, 0.97056275, 0.82842712])"
      ]
     },
     "execution_count": 22,
     "metadata": {},
     "output_type": "execute_result"
    }
   ],
   "source": [
    "X_jacobi, num_iterations_jacobi = jacobi(A, b, X_0, epsilon)\n",
    "print(f'AX = b solved using Jacobi method with {num_iterations_jacobi} iterations:')\n",
    "X_jacobi"
   ]
  },
  {
   "cell_type": "markdown",
   "metadata": {},
   "source": [
    "<p></p>\n",
    "<div style=\"direction:rtl;line-height:300%;\">\n",
    "\t<font face=\"XB Zar\" size=5>\n",
    "\t\t<hr>\n",
    "\t\t<b>قسمت ب)</b> به طور مشابه فرم ماتریسی الگوریتم گاوس-سایدل را پیاده‌سازی کرده و از نتیجه خروجی می‌گیریم:\n",
    "\t</font>\n",
    "</div>"
   ]
  },
  {
   "cell_type": "code",
   "execution_count": 12,
   "metadata": {},
   "outputs": [],
   "source": [
    "def gauss_seidel(A, b, X_0, epsilon):\n",
    "    U = np.triu(A, k=1)\n",
    "    L = np.tril(A, k=-1)\n",
    "    D = np.diag(np.diag(A))\n",
    "\n",
    "    X = X_0\n",
    "    num_iterations = 0\n",
    "    while True:\n",
    "        X_prev = X\n",
    "        X = -np.linalg.inv(L + D) @ U @ X + np.linalg.inv(L + D) @ b\n",
    "        num_iterations += 1\n",
    "        if np.linalg.norm(X - X_prev, np.inf) <= epsilon:\n",
    "            break\n",
    "\n",
    "    return X, num_iterations"
   ]
  },
  {
   "cell_type": "code",
   "execution_count": 21,
   "metadata": {},
   "outputs": [
    {
     "name": "stdout",
     "output_type": "stream",
     "text": [
      "AX = b solved using Gauss_Seidel method with 19 iterations:\n"
     ]
    },
    {
     "data": {
      "text/plain": [
       "array([0.82842712, 0.97056275, 0.99494937, 0.99913345, 0.99985132,\n",
       "       0.99997449, 0.99999562, 0.99999925, 0.99999987, 0.99999998,\n",
       "       1.        , 1.        , 1.        , 1.        , 1.        ,\n",
       "       1.        , 1.        , 1.        , 1.        , 1.        ,\n",
       "       1.        , 1.        , 1.        , 1.        , 1.        ,\n",
       "       1.        , 1.        , 1.        , 1.        , 1.        ,\n",
       "       1.        , 1.        , 1.        , 1.        , 1.        ,\n",
       "       1.        , 1.        , 1.        , 1.        , 1.        ,\n",
       "       1.        , 1.        , 1.        , 1.        , 1.        ,\n",
       "       1.        , 1.        , 1.        , 1.        , 1.        ,\n",
       "       1.        , 1.        , 1.        , 1.        , 1.        ,\n",
       "       1.        , 1.        , 1.        , 1.        , 1.        ,\n",
       "       1.        , 1.        , 1.        , 1.        , 1.        ,\n",
       "       1.        , 1.        , 1.        , 1.        , 1.        ,\n",
       "       1.        , 1.        , 1.        , 1.        , 1.        ,\n",
       "       1.        , 1.        , 1.        , 1.        , 1.        ,\n",
       "       1.        , 1.        , 1.        , 1.        , 1.        ,\n",
       "       1.        , 1.        , 1.        , 1.        , 1.        ,\n",
       "       0.99999998, 0.99999987, 0.99999925, 0.99999562, 0.99997449,\n",
       "       0.99985132, 0.99913345, 0.99494937, 0.97056275, 0.82842712])"
      ]
     },
     "execution_count": 21,
     "metadata": {},
     "output_type": "execute_result"
    }
   ],
   "source": [
    "X_gauss_seidel, num_iterations_gauss_seidel = gauss_seidel(A, b, X_0, epsilon)\n",
    "print(f'AX = b solved using Gauss_Seidel method with {num_iterations_gauss_seidel} iterations:')\n",
    "X_gauss_seidel"
   ]
  },
  {
   "cell_type": "markdown",
   "metadata": {},
   "source": [
    "<p></p>\n",
    "<div style=\"direction:rtl;line-height:300%;\">\n",
    "\t<font face=\"XB Zar\" size=5>\n",
    "\t\t<hr>\n",
    "\t\t<b>قسمت ت)</b> این بار با استفاده از الگوریتم توماس این دستگاه را حل کرده و از نتیجه خروجی می‌گیریم:\n",
    "\t</font>\n",
    "</div>"
   ]
  },
  {
   "cell_type": "code",
   "execution_count": 14,
   "metadata": {},
   "outputs": [],
   "source": [
    "def thomas(A, f):\n",
    "    # initializing arrays of coefficients\n",
    "    n = A.shape[0]\n",
    "    alpha = np.empty(n)\n",
    "    beta = np.empty(n)\n",
    "    y = np.empty(n)\n",
    "    x = np.empty(n)\n",
    "\n",
    "    # calculating coefficients alpha's and beta's\n",
    "    alpha[0] = A[0][0]\n",
    "    for i in range(1, n):\n",
    "        beta[i] = A[i][i - 1] / alpha[i - 1]\n",
    "        alpha[i] = A[i][i] - beta[i] * A[i - 1][i]\n",
    "    \n",
    "    # calculating y_i's\n",
    "    y[0] = f[0]\n",
    "    for i in range(1, n):\n",
    "        y[i] = f[i] - beta[i] * y[i - 1]\n",
    "    \n",
    "    # calculating the result\n",
    "    x[n - 1] = y[n - 1] / alpha[n - 1]\n",
    "    for i in range(n - 2, -1, -1):\n",
    "        x[i] = (y[i] - A[i][i + 1] * x[i + 1]) / alpha[i]\n",
    "    \n",
    "    return x"
   ]
  },
  {
   "cell_type": "code",
   "execution_count": 19,
   "metadata": {},
   "outputs": [
    {
     "name": "stdout",
     "output_type": "stream",
     "text": [
      "AX = b solved using Thomas algorithm:\n"
     ]
    },
    {
     "data": {
      "text/plain": [
       "array([0.82842712, 0.97056275, 0.99494937, 0.99913345, 0.99985132,\n",
       "       0.99997449, 0.99999562, 0.99999925, 0.99999987, 0.99999998,\n",
       "       1.        , 1.        , 1.        , 1.        , 1.        ,\n",
       "       1.        , 1.        , 1.        , 1.        , 1.        ,\n",
       "       1.        , 1.        , 1.        , 1.        , 1.        ,\n",
       "       1.        , 1.        , 1.        , 1.        , 1.        ,\n",
       "       1.        , 1.        , 1.        , 1.        , 1.        ,\n",
       "       1.        , 1.        , 1.        , 1.        , 1.        ,\n",
       "       1.        , 1.        , 1.        , 1.        , 1.        ,\n",
       "       1.        , 1.        , 1.        , 1.        , 1.        ,\n",
       "       1.        , 1.        , 1.        , 1.        , 1.        ,\n",
       "       1.        , 1.        , 1.        , 1.        , 1.        ,\n",
       "       1.        , 1.        , 1.        , 1.        , 1.        ,\n",
       "       1.        , 1.        , 1.        , 1.        , 1.        ,\n",
       "       1.        , 1.        , 1.        , 1.        , 1.        ,\n",
       "       1.        , 1.        , 1.        , 1.        , 1.        ,\n",
       "       1.        , 1.        , 1.        , 1.        , 1.        ,\n",
       "       1.        , 1.        , 1.        , 1.        , 1.        ,\n",
       "       0.99999998, 0.99999987, 0.99999925, 0.99999562, 0.99997449,\n",
       "       0.99985132, 0.99913345, 0.99494937, 0.97056275, 0.82842712])"
      ]
     },
     "execution_count": 19,
     "metadata": {},
     "output_type": "execute_result"
    }
   ],
   "source": [
    "X_thomas = thomas(A, b)\n",
    "print(f'AX = b solved using Thomas algorithm:')\n",
    "X_thomas"
   ]
  },
  {
   "cell_type": "markdown",
   "metadata": {},
   "source": [
    "<p></p>\n",
    "<div style=\"direction:rtl;line-height:300%;\">\n",
    "\t<font face=\"XB Zar\" size=5>\n",
    "\t\t<hr>\n",
    "        <b>قسمت ث)</b> در این قسمت دستگاه را با الگوریتم آماده‌ی کتابخانه <code>NumPy</code> حل می‌کنیم:\n",
    "\t</font>\n",
    "</div>"
   ]
  },
  {
   "cell_type": "code",
   "execution_count": 20,
   "metadata": {},
   "outputs": [
    {
     "name": "stdout",
     "output_type": "stream",
     "text": [
      "AX = b solved using NumPy algorithm:\n"
     ]
    },
    {
     "data": {
      "text/plain": [
       "array([0.82842712, 0.97056275, 0.99494937, 0.99913345, 0.99985132,\n",
       "       0.99997449, 0.99999562, 0.99999925, 0.99999987, 0.99999998,\n",
       "       1.        , 1.        , 1.        , 1.        , 1.        ,\n",
       "       1.        , 1.        , 1.        , 1.        , 1.        ,\n",
       "       1.        , 1.        , 1.        , 1.        , 1.        ,\n",
       "       1.        , 1.        , 1.        , 1.        , 1.        ,\n",
       "       1.        , 1.        , 1.        , 1.        , 1.        ,\n",
       "       1.        , 1.        , 1.        , 1.        , 1.        ,\n",
       "       1.        , 1.        , 1.        , 1.        , 1.        ,\n",
       "       1.        , 1.        , 1.        , 1.        , 1.        ,\n",
       "       1.        , 1.        , 1.        , 1.        , 1.        ,\n",
       "       1.        , 1.        , 1.        , 1.        , 1.        ,\n",
       "       1.        , 1.        , 1.        , 1.        , 1.        ,\n",
       "       1.        , 1.        , 1.        , 1.        , 1.        ,\n",
       "       1.        , 1.        , 1.        , 1.        , 1.        ,\n",
       "       1.        , 1.        , 1.        , 1.        , 1.        ,\n",
       "       1.        , 1.        , 1.        , 1.        , 1.        ,\n",
       "       1.        , 1.        , 1.        , 1.        , 1.        ,\n",
       "       0.99999998, 0.99999987, 0.99999925, 0.99999562, 0.99997449,\n",
       "       0.99985132, 0.99913345, 0.99494937, 0.97056275, 0.82842712])"
      ]
     },
     "execution_count": 20,
     "metadata": {},
     "output_type": "execute_result"
    }
   ],
   "source": [
    "X_numpy = np.linalg.solve(A, b)\n",
    "print(f'AX = b solved using NumPy algorithm:')\n",
    "X_numpy"
   ]
  },
  {
   "cell_type": "markdown",
   "metadata": {},
   "source": [
    "<p></p>\n",
    "<div style=\"direction:rtl;line-height:300%;\">\n",
    "\t<font face=\"XB Zar\" size=5>\n",
    "\t\t<p></p>\n",
    "        حال زمان اجرای هر الگوریتم را روی دستگاه محاسبه می‌کنیم:\n",
    "\t</font>\n",
    "</div>"
   ]
  },
  {
   "cell_type": "code",
   "execution_count": 23,
   "metadata": {},
   "outputs": [
    {
     "name": "stdout",
     "output_type": "stream",
     "text": [
      "10.8 ms ± 620 µs per loop (mean ± std. dev. of 7 runs, 100 loops each)\n"
     ]
    }
   ],
   "source": [
    "%timeit jacobi(A, b, X_0, epsilon)"
   ]
  },
  {
   "cell_type": "code",
   "execution_count": 24,
   "metadata": {},
   "outputs": [
    {
     "name": "stdout",
     "output_type": "stream",
     "text": [
      "8.19 ms ± 394 µs per loop (mean ± std. dev. of 7 runs, 100 loops each)\n"
     ]
    }
   ],
   "source": [
    "%timeit gauss_seidel(A, b, X_0, epsilon)"
   ]
  },
  {
   "cell_type": "code",
   "execution_count": 25,
   "metadata": {},
   "outputs": [
    {
     "name": "stdout",
     "output_type": "stream",
     "text": [
      "239 µs ± 16.5 µs per loop (mean ± std. dev. of 7 runs, 1,000 loops each)\n"
     ]
    }
   ],
   "source": [
    "%timeit thomas(A, b)"
   ]
  },
  {
   "cell_type": "code",
   "execution_count": 26,
   "metadata": {},
   "outputs": [
    {
     "name": "stdout",
     "output_type": "stream",
     "text": [
      "80.7 µs ± 1.35 µs per loop (mean ± std. dev. of 7 runs, 10,000 loops each)\n"
     ]
    }
   ],
   "source": [
    "%timeit np.linalg.solve(A, b)"
   ]
  },
  {
   "cell_type": "markdown",
   "metadata": {},
   "source": [
    "<p></p>\n",
    "<div style=\"direction:rtl;line-height:300%;\">\n",
    "\t<font face=\"XB Zar\" size=5>\n",
    "\t\t<p></p>\n",
    "        همان طور که مشهود است تابع آماده نامپای عملکرد بهتری نیست به همه‌ی قسمت‌ها دارد. بعد از آن الگوریتم تماس که در فصل دوم معرفی شد بهترین عملکرد را داشته و کم‌سرعت‌ترین الگوریتمها نیز گاوس-سایدل و ژاکوبی هستند.\n",
    "\t</font>\n",
    "</div>"
   ]
  },
  {
   "cell_type": "markdown",
   "metadata": {},
   "source": [
    "<p></p>\n",
    "<div style=\"direction:rtl;line-height:300%;\">\n",
    "\t<font face=\"XB Zar\" size=5>\n",
    "\t\t<font color=#f87d5b size=6>\n",
    "حل تمرین ۴\n",
    "        </font>\n",
    "\t\t<hr>\n",
    "\t\t<b>قسمت الف)</b> ابتدا الگوریتم ژاکوبی را ولی این بار با فرم ماتریسی آن پیاده‌سازی می‌کنیم\n",
    "\t</font>\n",
    "</div>"
   ]
  },
  {
   "cell_type": "code",
   "execution_count": 29,
   "metadata": {
    "id": "MQWRVSGdX20O"
   },
   "outputs": [],
   "source": [
    "def jacobi_matrix_form(A, b, T_0, epsilon):\n",
    "    U = np.triu(A, k=1)\n",
    "    L = np.tril(A, k=-1)\n",
    "    D = np.diag(np.diag(A))\n",
    "\n",
    "    T = T_0\n",
    "    num_iterations = 0\n",
    "    while True:\n",
    "        T_prev = T\n",
    "        T = -np.linalg.inv(D) @ (L + U) @ T + np.linalg.inv(D) @ b\n",
    "        num_iterations += 1\n",
    "        if np.linalg.norm(T - T_prev, np.inf) <= epsilon:\n",
    "            break\n",
    "\n",
    "    return T, num_iterations"
   ]
  },
  {
   "cell_type": "markdown",
   "metadata": {},
   "source": [
    "<p></p>\n",
    "<div style=\"direction:rtl;line-height:300%;\">\n",
    "\t<font face=\"XB Zar\" size=5>\n",
    "\t\t<p></p>\n",
    "        در ادامه ماتریس $A$، بردار $b$ و بردار حدس اولیه $T_0$ و همچنین تلورانس را تعریف می‌کنیم.\n",
    "\t</font>\n",
    "</div>"
   ]
  },
  {
   "cell_type": "code",
   "execution_count": 30,
   "metadata": {
    "id": "eGdeioAEZOOx"
   },
   "outputs": [],
   "source": [
    "A = np.array([[4, -1, 0, -1],\n",
    "              [-1, 4, -1, 0],\n",
    "              [0, -1, 4, -1],\n",
    "              [-1, 0, -1, 4]])"
   ]
  },
  {
   "cell_type": "code",
   "execution_count": 31,
   "metadata": {
    "id": "Le_jPCNNZmx6"
   },
   "outputs": [],
   "source": [
    "T_outside = 0\n",
    "b = np.array([T_outside + 5, 10, 10, T_outside + 5])"
   ]
  },
  {
   "cell_type": "code",
   "execution_count": 32,
   "metadata": {
    "id": "TyGuHw47aBxJ"
   },
   "outputs": [],
   "source": [
    "T_0 = np.array([0, 0, 0, 0])\n",
    "epsilon = 1e-3"
   ]
  },
  {
   "cell_type": "markdown",
   "metadata": {},
   "source": [
    "<p></p>\n",
    "<div style=\"direction:rtl;line-height:300%;\">\n",
    "\t<font face=\"XB Zar\" size=5>\n",
    "\t\t<p></p>\n",
    "        در ادامه بردار جواب $T$ را به همراه تعداد تکرارهای روش ژاکوبی خروجی می‌گیریم:\n",
    "\t</font>\n",
    "</div>"
   ]
  },
  {
   "cell_type": "code",
   "execution_count": 34,
   "metadata": {
    "colab": {
     "base_uri": "https://localhost:8080/"
    },
    "id": "OSqEuiKQafhz",
    "outputId": "d7feead6-388a-4809-c45b-d419c134b0fc"
   },
   "outputs": [
    {
     "name": "stdout",
     "output_type": "stream",
     "text": [
      "room temperatures after 12 repeats:\n",
      "[3.12408447 4.37408447 4.37408447 3.12408447]\n"
     ]
    }
   ],
   "source": [
    "T, repeats = jacobi_matrix_form(A, b, T_0, epsilon)\n",
    "print(f'room temperatures after {repeats} repeats:\\n{T}')"
   ]
  },
  {
   "cell_type": "markdown",
   "metadata": {},
   "source": [
    "<p></p>\n",
    "<div style=\"direction:rtl;line-height:300%;\">\n",
    "\t<font face=\"XB Zar\" size=5>\n",
    "\t\t<p></p>\n",
    "        چون در معادلات اول و آخر ضرایب $T_1$ و $T_4$ بیشتر است، اتاقهای اول و چهارم بیشتر تحت تاثیر دمای خارجی قرار می‌گیرند که البته چون $T_{\\text{outside}} + 5 < 10$ انتظار داریم دمای اتاقهای دوم و سوم بیشتر از اتاقهای اول و چهارم باشد که این اتفاق هم افتاده است. \n",
    "        <br>\n",
    "        حال با تغییر دمای خارج به $-5$، پاسخ را محاسبه می‌کنیم:\n",
    "\t</font>\n",
    "</div>"
   ]
  },
  {
   "cell_type": "code",
   "execution_count": 36,
   "metadata": {
    "id": "hhlWTGkjhZ95"
   },
   "outputs": [],
   "source": [
    "T_outside = -5\n",
    "b = np.array([T_outside + 5, 10, 10, T_outside + 5])"
   ]
  },
  {
   "cell_type": "code",
   "execution_count": 37,
   "metadata": {
    "colab": {
     "base_uri": "https://localhost:8080/"
    },
    "id": "TYO8WcRThb0C",
    "outputId": "be94056b-5395-4faf-95d1-74affd8d36d8"
   },
   "outputs": [
    {
     "name": "stdout",
     "output_type": "stream",
     "text": [
      "room temperatures after 12 repeats:\n",
      "[1.24938965 3.74938965 3.74938965 1.24938965]\n"
     ]
    }
   ],
   "source": [
    "T, repeats = jacobi_matrix_form(A, b, T_0, epsilon)\n",
    "print(f'room temperatures after {repeats} repeats:\\n{T}')"
   ]
  },
  {
   "cell_type": "markdown",
   "metadata": {},
   "source": [
    "<p></p>\n",
    "<div style=\"direction:rtl;line-height:300%;\">\n",
    "\t<font face=\"XB Zar\" size=5>\n",
    "\t\t<p></p>\n",
    "        با کاهش دمای خارج همان طور که انتظار داریم دمای اتاقهای اول و چهارم نیز کاهش قابل توجهی دارد.\n",
    "        با این حال نیازی به تغییر استراتژی نیست، چراکه همگرایی در هر دو قسمت و به ازای دماهای متمایز خارج رخ داده و مستقل از بردار ثوابت و لذا دمای خارج است.\n",
    "    </font>\n",
    "</div>"
   ]
  },
  {
   "cell_type": "markdown",
   "metadata": {},
   "source": [
    "<p></p>\n",
    "<div style=\"direction:rtl;line-height:300%;\">\n",
    "\t<font face=\"XB Zar\" size=5>\n",
    "\t\t<font color=#f87d5b size=6>\n",
    "حل تمرین ۵\n",
    "        </font>\n",
    "\t\t<hr>\n",
    "\t\t<b>قسمت ب)</b> ابتدا تابعی برای ایجاد ماتریس $M_{SOR}(\\omega)$ به ازای $\\omega$های مختلف تعریف می‌کنیم:\n",
    "\t</font>\n",
    "</div>"
   ]
  },
  {
   "cell_type": "code",
   "execution_count": 38,
   "metadata": {},
   "outputs": [],
   "source": [
    "def MSOR(omega):\n",
    "    M = np.array([[1 - omega, -omega],\n",
    "                  [omega * (2 * omega - 2), omega ** 2 - omega + 1]])\n",
    "    return M"
   ]
  },
  {
   "cell_type": "markdown",
   "metadata": {},
   "source": [
    "<p></p>\n",
    "<div style=\"direction:rtl;line-height:300%;\">\n",
    "\t<font face=\"XB Zar\" size=5>\n",
    "\t\t<p></p>\n",
    "        سپس بازه‌ی خواسته شده برای تغییرات $\\omega$ را تعریف می‌کنیم:\n",
    "\t</font>\n",
    "</div>"
   ]
  },
  {
   "cell_type": "code",
   "execution_count": 39,
   "metadata": {},
   "outputs": [],
   "source": [
    "omega_values = np.arange(0.01, 1.99, 0.01)"
   ]
  },
  {
   "cell_type": "markdown",
   "metadata": {},
   "source": [
    "<p></p>\n",
    "<div style=\"direction:rtl;line-height:300%;\">\n",
    "\t<font face=\"XB Zar\" size=5>\n",
    "\t\t<p></p>\n",
    "        همچنین بردار زیر را برای ذخیره مقادیر $\\rho(M_{SOR}(\\omega))$ به ازای هر $\\omega$ متناظر تعریف می‌کنیم:\n",
    "\t</font>\n",
    "</div>"
   ]
  },
  {
   "cell_type": "code",
   "execution_count": 40,
   "metadata": {},
   "outputs": [],
   "source": [
    "spectral_radii = []"
   ]
  },
  {
   "cell_type": "markdown",
   "metadata": {},
   "source": [
    "<p></p>\n",
    "<div style=\"direction:rtl;line-height:300%;\">\n",
    "\t<font face=\"XB Zar\" size=5>\n",
    "\t\t<p></p>\n",
    "        به ازای هر $\\omega$ مقدار $\\rho(M_{SOR}(\\omega))$ را محاسبه کرده و در بردار فوق ذخیره می‌کنیم:\n",
    "\t</font>\n",
    "</div>"
   ]
  },
  {
   "cell_type": "code",
   "execution_count": 41,
   "metadata": {},
   "outputs": [],
   "source": [
    "for omega in omega_values:\n",
    "    MSOR_matrix = MSOR(omega)\n",
    "    spectral_radius = np.max(np.abs(np.linalg.eigvals(MSOR_matrix)))\n",
    "    spectral_radii.append(spectral_radius)"
   ]
  },
  {
   "cell_type": "markdown",
   "metadata": {},
   "source": [
    "<p></p>\n",
    "<div style=\"direction:rtl;line-height:300%;\">\n",
    "\t<font face=\"XB Zar\" size=5>\n",
    "\t\t<p></p>\n",
    "        آنگاه نمودار $\\omega$ در مقابل $\\rho(M_{SOR}(\\omega))$ را رسم می‌کنیم:\n",
    "\t</font>\n",
    "</div>"
   ]
  },
  {
   "cell_type": "code",
   "execution_count": 44,
   "metadata": {},
   "outputs": [
    {
     "data": {
      "image/png": "[encoded data removed]",
      "text/plain": [
       "<Figure size 640x480 with 1 Axes>"
      ]
     },
     "metadata": {},
     "output_type": "display_data"
    }
   ],
   "source": [
    "plt.plot(omega_values, spectral_radii, marker='o')\n",
    "plt.title('Spectral Radii vs. Omega')\n",
    "plt.xlabel('Omega')\n",
    "plt.ylabel('Spectral Radius')\n",
    "plt.grid(True)"
   ]
  },
  {
   "cell_type": "markdown",
   "metadata": {},
   "source": [
    "<p></p>\n",
    "<div style=\"direction:rtl;line-height:300%;\">\n",
    "\t<font face=\"XB Zar\" size=5>\n",
    "\t\t<hr>\n",
    "        <b>قسمت ج)</b> بیشترین مقدار شعاع طیفی برابر\n",
    "\t</font>\n",
    "</div>"
   ]
  },
  {
   "cell_type": "code",
   "execution_count": 46,
   "metadata": {},
   "outputs": [
    {
     "data": {
      "text/plain": [
       "0.5320075187438613"
      ]
     },
     "execution_count": 46,
     "metadata": {},
     "output_type": "execute_result"
    }
   ],
   "source": [
    "min_spectral_radius = np.min(spectral_radii)\n",
    "min_spectral_radius"
   ]
  },
  {
   "cell_type": "markdown",
   "metadata": {},
   "source": [
    "<p></p>\n",
    "<div style=\"direction:rtl;line-height:300%;\">\n",
    "\t<font face=\"XB Zar\" size=5>\n",
    "\t\t<p></p>\n",
    "        بوده و اندیس ماتناظر آن در بردار <code>spectral_radii</code> برابر\n",
    "\t</font>\n",
    "</div>"
   ]
  },
  {
   "cell_type": "code",
   "execution_count": 47,
   "metadata": {},
   "outputs": [
    {
     "data": {
      "text/plain": [
       "117"
      ]
     },
     "execution_count": 47,
     "metadata": {},
     "output_type": "execute_result"
    }
   ],
   "source": [
    "min_spectral_radius_index = np.argmin(spectral_radii)\n",
    "min_spectral_radius_index"
   ]
  },
  {
   "cell_type": "markdown",
   "metadata": {},
   "source": [
    "<p></p>\n",
    "<div style=\"direction:rtl;line-height:300%;\">\n",
    "\t<font face=\"XB Zar\" size=5>\n",
    "\t\t<p></p>\n",
    "        است که به ازای $\\omega$ برابر با\n",
    "\t</font>\n",
    "</div>"
   ]
  },
  {
   "cell_type": "code",
   "execution_count": 49,
   "metadata": {},
   "outputs": [
    {
     "data": {
      "text/plain": [
       "1.18"
      ]
     },
     "execution_count": 49,
     "metadata": {},
     "output_type": "execute_result"
    }
   ],
   "source": [
    "corresponding_omega = omega_values[min_spectral_radius_index]\n",
    "corresponding_omega"
   ]
  },
  {
   "cell_type": "markdown",
   "metadata": {},
   "source": [
    "<p></p>\n",
    "<div style=\"direction:rtl;line-height:300%;\">\n",
    "\t<font face=\"XB Zar\" size=5>\n",
    "\t\t<p></p>\n",
    "        به دست می‌آید.\n",
    "\t</font>\n",
    "</div>"
   ]
  }
 ],
 "metadata": {
  "colab": {
   "provenance": []
  },
  "kernelspec": {
   "display_name": "Python 3 (ipykernel)",
   "language": "python",
   "name": "python3"
  },
  "language_info": {
   "codemirror_mode": {
    "name": "ipython",
    "version": 3
   },
   "file_extension": ".py",
   "mimetype": "text/x-python",
   "name": "python",
   "nbconvert_exporter": "python",
   "pygments_lexer": "ipython3",
   "version": "3.11.5"
  }
 },
 "nbformat": 4,
 "nbformat_minor": 1
}
